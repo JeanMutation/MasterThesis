{
 "cells": [
  {
   "cell_type": "markdown",
   "metadata": {},
   "source": [
    "# Filter the OTU table and the taxonomy\n",
    "\n",
    "The taxonomy must be filtered and reduced to make it handable for further processing.\n",
    "\n",
    "First, python modules get imported and constants get defined to make the work easier."
   ]
  },
  {
   "cell_type": "code",
   "execution_count": 1,
   "metadata": {},
   "outputs": [],
   "source": [
    "import pandas as pd\n",
    "import matplotlib_venn as vplt\n",
    "from matplotlib import pyplot as plt\n",
    "import numpy as np\n",
    "from collections import Counter"
   ]
  },
  {
   "cell_type": "code",
   "execution_count": 2,
   "metadata": {},
   "outputs": [],
   "source": [
    "KINGDOM = 'Kingdom'\n",
    "PHYLUM = 'Phylum'\n",
    "CLASS = 'Class'\n",
    "ORDER = 'Order'\n",
    "FAMILY = 'Family'\n",
    "GENUS = 'Genus'\n",
    "SPECIES = 'Species'\n",
    "ADDITION = 'Addition'\n",
    "ORIGIN = 'Origin'\n",
    "TAXON = 'Taxon'\n",
    "SILVA = 'SILVA'\n",
    "UNITE = 'UNITE'\n",
    "PR2 = 'PR2'\n",
    "CONFIDENCE = 'Confidence'\n",
    "MARKERGENE = 'Markergene'\n",
    "BACTERIA = 'bacteria'\n",
    "FUNGI = 'fungi'\n",
    "OOMYCETE = 'oomycete'\n",
    "EUKARYOTE = 'eukaryote'\n",
    "DOMAIN = 'Domain'\n",
    "SUPERGROUP = 'Supergroup'\n",
    "DIVISION = 'Division'\n",
    "SUBDIVISION = 'Subdivision'"
   ]
  },
  {
   "cell_type": "markdown",
   "metadata": {},
   "source": [
    "## Import"
   ]
  },
  {
   "cell_type": "markdown",
   "metadata": {},
   "source": [
    "Now the otu tables get imported, transformed and combined."
   ]
  },
  {
   "cell_type": "code",
   "execution_count": 3,
   "metadata": {},
   "outputs": [],
   "source": [
    "otu_bac_table = pd.read_csv('raw_otu_and_tax/Approach6/otu_table_bac_ap6.txt',sep='\\t', low_memory=False, skiprows = 1)\n",
    "otu_bac_table['#OTU ID'] = otu_bac_table['#OTU ID'] + '_'+BACTERIA\n",
    "\n",
    "otu_fun_table = pd.read_csv('raw_otu_and_tax/Approach6/otu_table_fun_ap6.txt',sep='\\t', low_memory=False, skiprows = 1)\n",
    "otu_fun_table['#OTU ID'] = otu_fun_table['#OTU ID'] + '_'+FUNGI\n",
    "\n",
    "otu_oom_table = pd.read_csv('raw_otu_and_tax/Approach6/otu_table_oom_ap6.txt',sep='\\t', low_memory=False, skiprows = 1)\n",
    "otu_oom_table['#OTU ID'] = otu_oom_table['#OTU ID'] + '_'+OOMYCETE\n",
    "\n",
    "otu_euk_table = pd.read_csv('raw_otu_and_tax/Approach6/otu_table_euk_ap6.txt',sep='\\t', low_memory=False, skiprows = 1)\n",
    "otu_euk_table['#OTU ID'] = otu_euk_table['#OTU ID'] + '_'+EUKARYOTE\n",
    "\n",
    "otu_frequency_raw = pd.concat([otu_bac_table, otu_fun_table, otu_oom_table, otu_euk_table], ignore_index=True, sort=False)\n",
    "otu_frequency_raw.set_index('#OTU ID', inplace=True)\n",
    "otu_frequency_raw = otu_frequency_raw.fillna(0)"
   ]
  },
  {
   "cell_type": "markdown",
   "metadata": {},
   "source": [
    "Now the same gets done for the taxonomy table:"
   ]
  },
  {
   "cell_type": "code",
   "execution_count": 4,
   "metadata": {},
   "outputs": [],
   "source": [
    "def process_taxonomy_to_workready_silva(input_file,markergene):\n",
    "    input_file = input_file.drop(input_file.index[0])\n",
    "    input_file[[DOMAIN, PHYLUM, CLASS, ORDER, FAMILY, GENUS, SPECIES]] = input_file[TAXON].str.split(';', expand=True)\n",
    "    input_file = input_file.drop(TAXON, axis=1)\n",
    "    input_file[DOMAIN] = input_file[DOMAIN].str.replace('d__', '', regex=False)\n",
    "    input_file[PHYLUM] = input_file[PHYLUM].str.replace('p__', '', regex=False)\n",
    "    input_file[CLASS] = input_file[CLASS].str.replace('c__', '', regex=False)\n",
    "    input_file[ORDER] = input_file[ORDER].str.replace('o__', '', regex=False)\n",
    "    input_file[FAMILY] = input_file[FAMILY].str.replace('f__', '', regex=False)\n",
    "    input_file[GENUS] = input_file[GENUS].str.replace('g__', '', regex=False)\n",
    "    input_file[SPECIES] = input_file[SPECIES].str.replace('s__', '', regex=False)\n",
    "    input_file[ORIGIN] = SILVA\n",
    "    input_file['Feature ID'] = input_file['Feature ID'] + '_'+markergene\n",
    "    return input_file\n",
    "\n",
    "def process_taxonomy_to_workready_unite(input_file,markergene):\n",
    "    input_file = input_file.drop(input_file.index[0])\n",
    "    input_file[[KINGDOM, PHYLUM, CLASS, ORDER, FAMILY, GENUS, SPECIES, ADDITION]] = input_file[TAXON].str.split(';', expand=True)\n",
    "    input_file = input_file.drop(TAXON, axis=1)\n",
    "    input_file[KINGDOM] = input_file[KINGDOM].str.replace('k__', '', regex=False)\n",
    "    input_file[PHYLUM] = input_file[PHYLUM].str.replace('p__', '', regex=False)\n",
    "    input_file[CLASS] = input_file[CLASS].str.replace('c__', '', regex=False)\n",
    "    input_file[ORDER] = input_file[ORDER].str.replace('o__', '', regex=False)\n",
    "    input_file[FAMILY] = input_file[FAMILY].str.replace('f__', '', regex=False)\n",
    "    input_file[GENUS] = input_file[GENUS].str.replace('g__', '', regex=False)\n",
    "    input_file[SPECIES] = input_file[SPECIES].str.replace('s__', '', regex=False)\n",
    "    input_file[ADDITION] = input_file[ADDITION].str.replace('sh__', '', regex=False)\n",
    "    input_file[ORIGIN] = UNITE\n",
    "    input_file['Feature ID'] = input_file['Feature ID'] + '_'+markergene\n",
    "    input_file = input_file.drop([ADDITION], axis=1)\n",
    "    return input_file\n",
    "\n",
    "def process_taxonomy_to_workready_pr2(input_file,markergene):\n",
    "    input_file = input_file.drop(input_file.index[0])\n",
    "    input_file[[DOMAIN, SUPERGROUP, DIVISION, SUBDIVISION, CLASS, ORDER, FAMILY, GENUS, SPECIES, CONFIDENCE]] = input_file[TAXON].str.split(';', expand=True)\n",
    "    input_file = input_file.drop(TAXON, axis=1)\n",
    "    input_file[ORIGIN] = PR2\n",
    "    input_file['Feature ID'] = input_file['Feature ID'] + '_'+markergene\n",
    "    return input_file\n",
    "\n",
    "def control_uniqueness_columns(table, column):\n",
    "    if len(table[column]) == len(table[column].unique()):\n",
    "        print(f'You only have unique entities in {column} left')\n",
    "    else:\n",
    "        print(f'You do not only have unique entities in {column} left')"
   ]
  },
  {
   "cell_type": "code",
   "execution_count": 5,
   "metadata": {},
   "outputs": [],
   "source": [
    "otu_bac_taxonomy_silva = pd.read_csv('raw_otu_and_tax/Approach6/bac_tax_ap6.tsv',sep='\\t')\n",
    "otu_bac_taxonomy_silva = process_taxonomy_to_workready_silva(otu_bac_taxonomy_silva, BACTERIA)\n",
    "otu_fun_taxonomy_unite = pd.read_csv('raw_otu_and_tax/Approach6/fun_tax_ap6.tsv',sep='\\t')\n",
    "otu_fun_taxonomy_unite = process_taxonomy_to_workready_unite(otu_fun_taxonomy_unite, FUNGI)\n",
    "otu_oom_taxonomy_unite = pd.read_csv('raw_otu_and_tax/Approach6/oom_tax_ap6.tsv',sep='\\t')\n",
    "otu_oom_taxonomy_unite = process_taxonomy_to_workready_unite(otu_oom_taxonomy_unite, OOMYCETE)\n",
    "otu_euk_taxonomy_pr2 = pd.read_csv('raw_otu_and_tax/Approach6/euk_tax_ap6.tsv',sep='\\t')\n",
    "otu_euk_taxonomy_pr2 = process_taxonomy_to_workready_pr2(otu_euk_taxonomy_pr2, EUKARYOTE)\n",
    "\n",
    "otu_taxonomy_raw = pd.concat([otu_bac_taxonomy_silva, otu_fun_taxonomy_unite, otu_oom_taxonomy_unite, otu_euk_taxonomy_pr2], ignore_index=True, sort=False)"
   ]
  },
  {
   "cell_type": "markdown",
   "metadata": {},
   "source": [
    "## Sort samples to analyze \n",
    "\n",
    "For this process, the metadatafile is needed. So firstly, this file gets imported"
   ]
  },
  {
   "cell_type": "code",
   "execution_count": 6,
   "metadata": {},
   "outputs": [],
   "source": [
    "mapfile = pd.read_csv('Mapfile_complete_and_corrected.csv',sep=';', low_memory=False)"
   ]
  },
  {
   "cell_type": "code",
   "execution_count": 7,
   "metadata": {},
   "outputs": [],
   "source": [
    "used_sample_ids = mapfile['#SampleID'].tolist()"
   ]
  },
  {
   "cell_type": "code",
   "execution_count": 8,
   "metadata": {},
   "outputs": [],
   "source": [
    "otu_frequency = otu_frequency_raw.loc[:, [col for col in otu_frequency_raw.columns if col in used_sample_ids]]"
   ]
  },
  {
   "cell_type": "markdown",
   "metadata": {},
   "source": [
    "## Filtering\n",
    "\n",
    "First i want to filter the OTU frequencies, filtering out the counts that are lower than 50, counting them as noise. Additionally, if an otu only occurs in less than 2 samples it gets filtered out as well, considering them noise as well."
   ]
  },
  {
   "cell_type": "code",
   "execution_count": 9,
   "metadata": {},
   "outputs": [],
   "source": [
    "def otu_filter_low_abundance(table):\n",
    "    table = table.astype(int)\n",
    "    table = table.applymap(lambda x: 0 if x < 50 else x)\n",
    "    table['OTU_count'] = (table != 0).sum(axis=1)\n",
    "    table = table[table['OTU_count'] >= 2]\n",
    "    table = table.drop('OTU_count', axis =1)\n",
    "    return table"
   ]
  },
  {
   "cell_type": "code",
   "execution_count": 10,
   "metadata": {},
   "outputs": [
    {
     "name": "stderr",
     "output_type": "stream",
     "text": [
      "C:\\Users\\klein\\AppData\\Local\\Temp\\ipykernel_17684\\1852486512.py:3: FutureWarning: DataFrame.applymap has been deprecated. Use DataFrame.map instead.\n",
      "  table = table.applymap(lambda x: 0 if x < 50 else x)\n"
     ]
    }
   ],
   "source": [
    "otu_frequency = otu_filter_low_abundance(otu_frequency_raw)"
   ]
  },
  {
   "cell_type": "markdown",
   "metadata": {},
   "source": [
    "For the taxonomy filtering, i want to exclude all unwanted taxa. This means in general:\n",
    "- Taxa that have an other taxonomic classification than the loci observed was coding for\n",
    "- Mitochondia/ Chlorophyll --> Taxa that get found that are no microbes"
   ]
  },
  {
   "cell_type": "code",
   "execution_count": 11,
   "metadata": {},
   "outputs": [],
   "source": [
    "def filter_otu_with_taxonomy(table):\n",
    "    # Filter out all Unassigned OTU\n",
    "    table = table[table.apply(lambda row: row[KINGDOM] != 'Unassigned', axis=1)]\n",
    "    table = table[table.apply(lambda row: row[DOMAIN] != 'Unassigned', axis=1)]\n",
    "\n",
    "    # Filter for BacV3 and BacV3\n",
    "    bacteria_marker = table['Feature ID'].str.contains(BACTERIA, case=False)\n",
    "    bac_mask_1 = bacteria_marker & table[FAMILY].str.contains('Mitochondria', case=False)\n",
    "    bac_mask_2 = bacteria_marker & table[ORDER].str.contains('Chloroplast', case=False)\n",
    "    bac_mask_3 = bacteria_marker & table[ORDER].str.contains('Rickettsiales', case=False)\n",
    "    table = table[~(bac_mask_1 | bac_mask_2 | bac_mask_3)]\n",
    "\n",
    "    # Filter FITS2 and Ftrad\n",
    "    fungi_marker = table['Feature ID'].str.contains(FUNGI, case=False)\n",
    "    fun_mask_1 = fungi_marker & table[CLASS].str.contains('Oomycetes', case=False)\n",
    "    fun_mask_2 = fungi_marker & table[KINGDOM].str.contains('Viridiplantae', case=False)\n",
    "    table = table[~(fun_mask_1 | fun_mask_2)]\n",
    "\n",
    "    # Filter OITS2 and Otrad\n",
    "    oomycete_marker = table['Feature ID'].str.contains(OOMYCETE, case=False)\n",
    "    Oom_mask_1 = oomycete_marker & table[KINGDOM].str.contains('Fungi', case=False)\n",
    "    table = table[~Oom_mask_1]\n",
    "\n",
    "    # Filter PrV4 and PrV9\n",
    "    eukaryote_marker = table['Feature ID'].str.contains(EUKARYOTE, case=False)\n",
    "    Euk_mask_1 = eukaryote_marker & table[KINGDOM].str.contains('Fungi', case=False)\n",
    "    Euk_mask_2 = eukaryote_marker & table[KINGDOM].str.contains('Streptophyta', case=False)\n",
    "    Euk_mask_3 = eukaryote_marker & table[DOMAIN].str.contains('Bacteria', case=False)\n",
    "    table = table[~(Euk_mask_1 | Euk_mask_2 | Euk_mask_3)]\n",
    "\n",
    "    return table"
   ]
  },
  {
   "cell_type": "code",
   "execution_count": 12,
   "metadata": {},
   "outputs": [],
   "source": [
    "otu_taxonomy = filter_otu_with_taxonomy(otu_taxonomy_raw)"
   ]
  },
  {
   "cell_type": "markdown",
   "metadata": {},
   "source": [
    "## Merging the otus by genus"
   ]
  },
  {
   "cell_type": "code",
   "execution_count": 13,
   "metadata": {},
   "outputs": [],
   "source": [
    "otu_with_tax = pd.merge(otu_taxonomy, otu_frequency, how='inner', left_on=['Feature ID'], right_on=['#OTU ID'])"
   ]
  },
  {
   "cell_type": "code",
   "execution_count": 14,
   "metadata": {},
   "outputs": [],
   "source": [
    "def merge_the_otus_by_taxonomy(table, na_table, kingdom, level_to_merge):\n",
    "    rows_of_kingdom = table['Feature ID'].str.contains(kingdom, case=False)\n",
    "    table_kingdom = table[rows_of_kingdom].groupby(level_to_merge).sum().reset_index()\n",
    "    table_kingdom['Feature ID'] = table_kingdom['Feature ID'].str.replace(kingdom, (f\"{kingdom};\"), case=False)\n",
    "    table_rows_with_na = table[rows_of_kingdom & table[level_to_merge].isna()]\n",
    "    na_table = pd.concat([na_table, table_rows_with_na])\n",
    "\n",
    "    return table_kingdom, na_table\n",
    "\n",
    "def sum_the_na_table(na_table, kingdom):\n",
    "    numeric_columns = na_table.select_dtypes(include='number')\n",
    "    sum_row = numeric_columns.sum(axis=0)\n",
    "    sum_df = pd.DataFrame([sum_row])\n",
    "    sum_df['Feature ID'] = f'other_{str(kingdom)}'\n",
    "\n",
    "    return sum_df"
   ]
  },
  {
   "cell_type": "code",
   "execution_count": 15,
   "metadata": {},
   "outputs": [],
   "source": [
    "na_table = pd.DataFrame()\n",
    "table_bacteria, na_table = merge_the_otus_by_taxonomy(otu_with_tax, na_table, BACTERIA, GENUS)\n",
    "table_fungi, na_table = merge_the_otus_by_taxonomy(otu_with_tax, na_table, FUNGI, SPECIES)\n",
    "table_oomycete, na_table = merge_the_otus_by_taxonomy(otu_with_tax, na_table, OOMYCETE, GENUS)\n",
    "table_eukaryote, na_table = merge_the_otus_by_taxonomy(otu_with_tax, na_table, EUKARYOTE, GENUS)\n",
    "\n",
    "\n",
    "\n",
    "otu_with_tax_merged = pd.concat([table_bacteria, table_fungi, table_oomycete, table_eukaryote, na_table])"
   ]
  },
  {
   "cell_type": "code",
   "execution_count": 16,
   "metadata": {},
   "outputs": [],
   "source": [
    "def clean_the_merged_table(table, taxonomy_table):\n",
    "    table[['Feature ID', 'corresponding Feature ID']] = table['Feature ID'].str.split(';', n=1, expand=True)\n",
    "    corresponding_feature_id_table=table[['Feature ID', 'corresponding Feature ID']]\n",
    "    table=table.set_index('Feature ID')\n",
    "    \n",
    "    taxonomy_columns=[DOMAIN, CONFIDENCE, ORIGIN, SUPERGROUP, DIVISION, SUBDIVISION, CLASS, ORDER, FAMILY, GENUS, SPECIES, KINGDOM, PHYLUM, 'corresponding Feature ID']\n",
    "    table=table.drop(taxonomy_columns, axis=1)\n",
    "\n",
    "    table=pd.merge(taxonomy_table, table, how='inner', on=['Feature ID'])\n",
    "\n",
    "    return table, corresponding_feature_id_table"
   ]
  },
  {
   "cell_type": "code",
   "execution_count": 17,
   "metadata": {},
   "outputs": [],
   "source": [
    "otu_with_tax_merged, feature_ids_clustered = clean_the_merged_table(otu_with_tax_merged, otu_taxonomy)   "
   ]
  },
  {
   "cell_type": "markdown",
   "metadata": {},
   "source": [
    "## Choose loci\n",
    "\n",
    "The analysis will happen on only columns with values, so columns without any OTUs get filtered out first. \n",
    "\n",
    "Additionaly, the following steps will be performed on the endophytes and the whole-leaf seperatly."
   ]
  },
  {
   "cell_type": "code",
   "execution_count": 18,
   "metadata": {},
   "outputs": [],
   "source": [
    "def create_otu_by_origin_of_sample(table, metadata, short):\n",
    "\n",
    "    for column in table.columns:\n",
    "        if (table[column] == 0).all():\n",
    "            table = table.drop(column, axis=1)\n",
    "    column_names = table.columns.tolist()\n",
    "\n",
    "    table = table.set_index('Feature ID')\n",
    "\n",
    "    columns_necessary = []\n",
    "    metadata['Compartment'] = metadata['Compartment'].str.lower()\n",
    "    short_metadata = metadata[metadata['Compartment'].str.contains(short)]\n",
    "    columns_necessary.extend(short_metadata['#SampleID'].tolist())\n",
    "    \n",
    "    intersection = list(set(column_names).intersection(columns_necessary))\n",
    "\n",
    "    short_table = table[intersection]\n",
    "\n",
    "    return short_table"
   ]
  },
  {
   "cell_type": "code",
   "execution_count": 19,
   "metadata": {},
   "outputs": [],
   "source": [
    "otu_wl_table = create_otu_by_origin_of_sample(otu_with_tax, mapfile, 'wl')\n",
    "otu_endo_table = create_otu_by_origin_of_sample(otu_with_tax, mapfile, 'endo')"
   ]
  },
  {
   "cell_type": "code",
   "execution_count": 20,
   "metadata": {},
   "outputs": [],
   "source": [
    "otu_wl_table = pd.merge(otu_taxonomy, otu_wl_table, how='inner', left_on=['Feature ID'], right_on=['Feature ID'])\n",
    "otu_endo_table = pd.merge(otu_taxonomy, otu_endo_table, how='inner', left_on=['Feature ID'], right_on=['Feature ID'])\n",
    "\n",
    "otu_wl_table = otu_wl_table.set_index('Feature ID')\n",
    "otu_endo_table = otu_endo_table.set_index('Feature ID')"
   ]
  },
  {
   "cell_type": "code",
   "execution_count": 21,
   "metadata": {},
   "outputs": [],
   "source": [
    "def diagram_to_decide_loci_to_use(table, kingdom_type, axis_information):\n",
    "\n",
    "    primers_mapping = {\n",
    "    BACTERIA: {'primer': ('BacV5', 'BacV3')},\n",
    "    FUNGI: {'primer': ('FITS', 'Ftrad')},\n",
    "    OOMYCETE: {'primer': ('OITS', 'Otrad')},\n",
    "    EUKARYOTE: {'primer': ('PrV4', 'PrV9')}}\n",
    "\n",
    "    unique_values_dict = {}\n",
    "\n",
    "\n",
    "    for primer in primers_mapping.get(kingdom_type, {}).get('primer', ()):\n",
    "        primer_columns = [col for col in table.columns if primer in col]\n",
    "        primer_columns.append(CLASS)\n",
    "        primer_table = table[primer_columns]\n",
    "        non_class_columns = [col for col in primer_table.columns if col != CLASS]\n",
    "        row_has_zeros = primer_table[non_class_columns].eq(0).all(axis=1)\n",
    "        primer_table = primer_table[~row_has_zeros]\n",
    "        unique_values = primer_table[CLASS].unique()\n",
    "        unique_values_dict[primer] = unique_values\n",
    "\n",
    "    list_primer_1 = unique_values_dict.get(primers_mapping[kingdom_type]['primer'][0], []) \n",
    "    list_primer_2 = unique_values_dict.get(primers_mapping[kingdom_type]['primer'][1], [])\n",
    "    intersection = list(set(list_primer_1).intersection(list_primer_2))\n",
    "    len_intersection = len(intersection)\n",
    "    individual_list_primer_1 = set(list_primer_1) - set(intersection)\n",
    "    individual_list_primer_2 = set(list_primer_2) - set(intersection)\n",
    "    individual_len_primer_1 = len(individual_list_primer_1)\n",
    "    individual_len_primer_2 = len(individual_list_primer_2)\n",
    "    primer_1 = primers_mapping[kingdom_type]['primer'][0]\n",
    "    primer_2 = primers_mapping[kingdom_type]['primer'][1]\n",
    "\n",
    "    print(f'common shared classes: {intersection}')\n",
    "    print(f'{primer_1} hat this unique classes: {individual_list_primer_1}')\n",
    "    print(f'{primer_2} hat this unique classes: {individual_list_primer_2}')\n",
    "    \n",
    "    plot = vplt.venn2(subsets={'10': (individual_len_primer_1), '01':(individual_len_primer_2), '11':len_intersection}, set_labels = (primer_1, primer_2), ax=axis_information)\n",
    "    \n",
    "    return plot    "
   ]
  },
  {
   "cell_type": "code",
   "execution_count": 22,
   "metadata": {},
   "outputs": [
    {
     "name": "stdout",
     "output_type": "stream",
     "text": [
      "common shared classes: []\n",
      "BacV5 hat this unique classes: {' TK10', ' Babeliae', ' Fibrobacteria', ' Kapabacteria', ' Abditibacteria', ' Oligoflexia', ' Alphaproteobacteria', ' vadinHA49', ' Cyanobacteriia', ' Bacteroidia', ' Planctomycetes', ' Actinobacteria', ' Blastocatellia', ' Nitrospiria', ' Thermoanaerobaculia', ' Holophagae', ' Fimbriimonadia', ' Chloroflexia', ' Rubrobacteria', ' Verrucomicrobiae', ' Deinococci', ' Phycisphaerae', ' Bdellovibrionia', ' Acidobacteriae', ' Ktedonobacteria', ' Myxococcia', ' Thermoleophilia', ' Longimicrobia', ' Bacilli', ' MB-A2-108', ' Gammaproteobacteria', ' Polyangia', ' Gemmatimonadetes', ' Rhodothermia', ' Armatimonadia', ' Acidimicrobiia'}\n",
      "BacV3 hat this unique classes: set()\n",
      "common shared classes: ['Pezizomycotina_cls_Incertae_sedis', 'Orbiliomycetes', 'Tremellomycetes', 'Lecanoromycetes', 'Mortierellomycetes', 'Ascomycota_cls_Incertae_sedis', 'Eukaryota_cls_Incertae_sedis', 'Cystobasidiomycetes', 'Arthoniomycetes', 'Monoblepharomycota_cls_Incertae_sedis', 'Rozellomycota_cls_Incertae_sedis', 'Rhizophlyctidomycetes', 'Spizellomycetes', 'Aphelidiomycetes', 'Eurotiomycetes', 'Chytridiomycota_cls_Incertae_sedis', 'Taphrinomycetes', None, 'Leotiomycetes', 'Microbotryomycetes', 'Sordariomycetes', 'Fungi_cls_Incertae_sedis', 'Olpidiomycetes', 'Rhizophydiomycetes', 'Dothideomycetes', 'Rozellomycotina_cls_Incertae_sedis', 'Lichinomycetes', 'Agaricomycetes']\n",
      "FITS hat this unique classes: {'Pezizomycetes', 'Basidiomycota_cls_Incertae_sedis', 'Exobasidiomycetes', 'Monoblepharidomycetes', 'Pucciniomycetes'}\n",
      "Ftrad hat this unique classes: {'Agaricostilbomycetes', 'Cercozoa_cls_Incertae_sedis', 'Lobulomycetes', 'Candelariomycetes'}\n",
      "common shared classes: ['Eudicotyledonae', 'Eukaryota_cls_Incertae_sedis', 'Oomycetes']\n",
      "OITS hat this unique classes: {'Chlorophyceae', 'Chlorophyta_cls_Incertae_sedis', 'Trebouxiophyceae', None, 'Ulvophyceae', 'Pleurastrophyceae'}\n",
      "Otrad hat this unique classes: {'Bacillariophyceae', 'Ochrophyta_cls_Incertae_sedis'}\n",
      "common shared classes: [None, 'Embryophyceae:plas']\n",
      "PrV4 hat this unique classes: {'Opisthosporidia'}\n",
      "PrV9 hat this unique classes: {'Endomyxa-Phytomyxea', 'Rotifera', 'Aphelidiomycota', 'Oligohymenophorea', 'Chytridiomycota', 'Colpodea', 'Arthropoda', 'Filosa-Imbricatea', 'Basidiomycota', 'Craniata', 'Nematoda', 'Chlorophyceae', 'Gregarinomorphea', 'Nassophorea', 'Xanthophyceae', 'Phyllopharyngea', 'Sagenista', 'Apusomonadidae', 'Embryophyceae', 'Bacillariophyceae', 'Annelida', 'Flabellinia', 'Elardia', 'Klebsormidiophyceae', 'Mucoromycota', 'Ulvophyceae', 'Filosa-Sarcomonadea', 'Ascomycota', 'Chrysophyceae', 'Filosa-Thecofilosea', 'Peronosporomycetes', 'Trebouxiophyceae', 'Tardigrada', 'Spirotrichea'}\n"
     ]
    },
    {
     "data": {
      "image/png": "[encoded data removed]",
      "text/plain": [
       "<Figure size 670x370 with 4 Axes>"
      ]
     },
     "metadata": {},
     "output_type": "display_data"
    }
   ],
   "source": [
    "fig, axes = plt.subplots(2, 2, figsize=(6.7, 3.7))\n",
    "\n",
    "venn_bac_otu_wl = diagram_to_decide_loci_to_use(otu_wl_table, BACTERIA, axes[0, 0])\n",
    "axes[0, 0].set_title(\"BACTERIA\")\n",
    "\n",
    "venn_fun_otu_wl = diagram_to_decide_loci_to_use(otu_wl_table, FUNGI, axes[0, 1])\n",
    "axes[0, 1].set_title(\"FUNGI\")\n",
    "\n",
    "venn_oom_otu_wl = diagram_to_decide_loci_to_use(otu_wl_table, OOMYCETE, axes[1, 0])\n",
    "axes[1, 0].set_title(\"OOMYCETE\")\n",
    "\n",
    "venn_euk_otu_wl = diagram_to_decide_loci_to_use(otu_wl_table, EUKARYOTE, axes[1, 1])\n",
    "axes[1, 1].set_title(\"EUKARYOTE\")\n",
    "\n",
    "plt.tight_layout()\n",
    "plt.show()"
   ]
  },
  {
   "cell_type": "code",
   "execution_count": 23,
   "metadata": {},
   "outputs": [
    {
     "name": "stdout",
     "output_type": "stream",
     "text": [
      "common shared classes: []\n",
      "BacV5 hat this unique classes: {' TK10', ' Babeliae', ' Fimbriimonadia', ' Chloroflexia', ' Rubrobacteria', ' Kapabacteria', ' Abditibacteria', ' Deinococci', None, ' Oligoflexia', ' Bdellovibrionia', ' Acidobacteriae', ' Alphaproteobacteria', ' Ktedonobacteria', ' Myxococcia', ' Clostridia', ' Cyanobacteriia', ' Bacteroidia', ' Thermoleophilia', ' Bacilli', ' MB-A2-108', ' Actinobacteria', ' Blastocatellia', ' Gammaproteobacteria', ' Polyangia', ' Gemmatimonadetes', ' Armatimonadia', ' Acidimicrobiia'}\n",
      "BacV3 hat this unique classes: {' Eutardigrada'}\n",
      "common shared classes: ['Pezizomycetes', 'Pezizomycotina_cls_Incertae_sedis', 'Agaricostilbomycetes', 'Orbiliomycetes', 'Tremellomycetes', 'Mortierellomycetes', 'Ascomycota_cls_Incertae_sedis', 'Eukaryota_cls_Incertae_sedis', 'Cystobasidiomycetes', 'Arthoniomycetes', 'Monoblepharomycota_cls_Incertae_sedis', 'Rhizophlyctidomycetes', 'Spizellomycetes', 'Eurotiomycetes', 'Chytridiomycota_cls_Incertae_sedis', 'Taphrinomycetes', None, 'Leotiomycetes', 'Microbotryomycetes', 'Sordariomycetes', 'Fungi_cls_Incertae_sedis', 'Dothideomycetes', 'Lichinomycetes', 'Agaricomycetes']\n",
      "FITS hat this unique classes: {'Saccharomycetes', 'Lecanoromycetes', 'Aphelidiomycetes', 'Basidiomycota_cls_Incertae_sedis', 'Exobasidiomycetes', 'Rozellomycotina_cls_Incertae_sedis', 'Olpidiomycetes', 'Monoblepharidomycetes', 'Rhizophydiomycetes'}\n",
      "Ftrad hat this unique classes: {'Cercozoa_cls_Incertae_sedis', 'Candelariomycetes'}\n",
      "common shared classes: ['Eukaryota_cls_Incertae_sedis']\n",
      "OITS hat this unique classes: {'Chlorophyceae', 'Chlorophyta_cls_Incertae_sedis', 'Trebouxiophyceae', None, 'Eudicotyledonae', 'Ulvophyceae', 'Pleurastrophyceae'}\n",
      "Otrad hat this unique classes: {'Oomycetes'}\n",
      "common shared classes: [None, 'Embryophyceae:plas']\n",
      "PrV4 hat this unique classes: set()\n",
      "PrV9 hat this unique classes: {'Rotifera', 'Klebsormidiophyceae', 'Chytridiomycota', 'Colpodea', 'Arthropoda', 'Filosa-Imbricatea', 'Ulvophyceae', 'Filosa-Sarcomonadea', 'Ascomycota', 'Chrysophyceae', 'Basidiomycota', 'Craniata', 'Nematoda', 'Filosa-Thecofilosea', 'Chlorophyceae', 'Gregarinomorphea', 'Xanthophyceae', 'Peronosporomycetes', 'Trebouxiophyceae', 'Tardigrada', 'Embryophyceae', 'Bacillariophyceae', 'Spirotrichea'}\n"
     ]
    },
    {
     "data": {
      "image/png": "[encoded data removed]",
      "text/plain": [
       "<Figure size 670x300 with 4 Axes>"
      ]
     },
     "metadata": {},
     "output_type": "display_data"
    }
   ],
   "source": [
    "fig, axes = plt.subplots(2, 2, figsize=(6.7, 3))\n",
    "\n",
    "venn_bac_otu_endo = diagram_to_decide_loci_to_use(otu_endo_table, BACTERIA, axes[0, 0])\n",
    "axes[0, 0].set_title(\"BACTERIA\")\n",
    "\n",
    "venn_fun_otu_endo = diagram_to_decide_loci_to_use(otu_endo_table, FUNGI, axes[0, 1])\n",
    "axes[0, 1].set_title(\"FUNGI\")\n",
    "\n",
    "venn_oom_otu_endo = diagram_to_decide_loci_to_use(otu_endo_table, OOMYCETE, axes[1, 0])\n",
    "axes[1, 0].set_title(\"OOMYCETE\")\n",
    "\n",
    "venn_euk_otu_endo = diagram_to_decide_loci_to_use(otu_endo_table, EUKARYOTE, axes[1, 1])\n",
    "axes[1, 1].set_title(\"EUKARYOTE\")\n",
    "\n",
    "plt.tight_layout()\n",
    "plt.show()"
   ]
  },
  {
   "cell_type": "markdown",
   "metadata": {},
   "source": [
    "When inspecting the number of individual classes for each loci studied, the marker genes to study further are the following:\n",
    "- BacV5\n",
    "- FITS2\n",
    "- Otrad\n",
    "- PrV9\n",
    "\n",
    "Otrad has less classes that OITS2, but it has the class Oomycetes as an individual class in the endophytes, and since Albugo is in this class, i will keep this marker gene for further analysis. FITS also has fever Classes than Ftrad but also got chosen because it holds more Dioszegia OTUs"
   ]
  },
  {
   "cell_type": "code",
   "execution_count": 24,
   "metadata": {},
   "outputs": [],
   "source": [
    "def keep_columns_to_proceed(table):    \n",
    "    table_columns = [col for col in table.columns if 'BacV5' in col or 'FITS' in col or 'Otrad' in col or 'PrV9' in col]    \n",
    "    table = table[table_columns]\n",
    "    row_has_zeros = table.eq(0).all(axis=1)\n",
    "    table = table[~row_has_zeros]\n",
    "    \n",
    "    return table"
   ]
  },
  {
   "cell_type": "code",
   "execution_count": 25,
   "metadata": {},
   "outputs": [],
   "source": [
    "otu_wl_table = keep_columns_to_proceed(otu_wl_table)\n",
    "otu_endo_table = keep_columns_to_proceed(otu_endo_table)"
   ]
  },
  {
   "cell_type": "code",
   "execution_count": 46,
   "metadata": {},
   "outputs": [],
   "source": [
    "otu_wl_table.to_csv('raw_otu_and_tax/Approach6/_all_otu_table_filtered_wl_ap6_no_merge.tsv', sep='\\t')\n",
    "otu_endo_table.to_csv('raw_otu_and_tax/Approach6/_all_otu_table_filtered_endo_ap6_no_merge.tsv', sep='\\t')"
   ]
  },
  {
   "cell_type": "markdown",
   "metadata": {},
   "source": [
    "## Normalization"
   ]
  },
  {
   "cell_type": "markdown",
   "metadata": {},
   "source": [
    "The rarefaction will happen in R because there is no proper function for that in python. The rarefied tables get imported as the first step and then further processed."
   ]
  },
  {
   "cell_type": "code",
   "execution_count": 26,
   "metadata": {},
   "outputs": [],
   "source": [
    "def relative_abundance_by_sample(table):\n",
    "    table_numeric = table.apply(pd.to_numeric, errors='coerce')\n",
    "    numeric_columns = table_numeric.select_dtypes(include=[np.number]).columns\n",
    "    relative_abundance_df = table_numeric[numeric_columns].div(table_numeric[numeric_columns].sum(axis=0), axis=1)    \n",
    "    return relative_abundance_df"
   ]
  },
  {
   "cell_type": "code",
   "execution_count": 27,
   "metadata": {},
   "outputs": [],
   "source": [
    "otu_wl_table = relative_abundance_by_sample(otu_wl_table)\n",
    "otu_endo_table = relative_abundance_by_sample(otu_endo_table)"
   ]
  },
  {
   "cell_type": "markdown",
   "metadata": {},
   "source": [
    "## Merge the samples by their ID"
   ]
  },
  {
   "cell_type": "code",
   "execution_count": 29,
   "metadata": {},
   "outputs": [],
   "source": [
    "def merge_samples_by_their_id(table, metadata):\n",
    "\n",
    "    column_mapping = dict(zip(metadata['#SampleID'], metadata['Identifier']))\n",
    "    table.rename(columns=column_mapping, inplace=True)\n",
    "\n",
    "    column_counts = Counter(table.columns.tolist())\n",
    "    values_with_different_count = [value for value, count in column_counts.items() if count == 4]\n",
    "\n",
    "    table = table[values_with_different_count]\n",
    "    \n",
    "    table = table.transpose()\n",
    "    summed_table = table.groupby(level = 0).sum()\n",
    "    summed_table = summed_table.transpose()\n",
    "    summed_table = summed_table.loc[(summed_table != 0).any(axis=1)]\n",
    "    \n",
    "    return summed_table"
   ]
  },
  {
   "cell_type": "code",
   "execution_count": 30,
   "metadata": {},
   "outputs": [],
   "source": [
    "otu_wl_table = merge_samples_by_their_id(otu_wl_table, mapfile)\n",
    "otu_endo_table = merge_samples_by_their_id(otu_endo_table, mapfile)"
   ]
  },
  {
   "cell_type": "code",
   "execution_count": 55,
   "metadata": {},
   "outputs": [],
   "source": [
    "otu_wl_table.to_csv('raw_otu_and_tax/Approach6/_all_otu_table_normalized_relAB_wl_ap6.tsv', sep='\\t')\n",
    "otu_endo_table.to_csv('raw_otu_and_tax/Approach6/_all_otu_table_normalized_relAB_endo_ap6.tsv', sep='\\t')"
   ]
  },
  {
   "cell_type": "markdown",
   "metadata": {},
   "source": [
    "## Create taxonomy table"
   ]
  },
  {
   "cell_type": "code",
   "execution_count": 169,
   "metadata": {},
   "outputs": [],
   "source": [
    "# otu_taxonomy = otu_taxonomy.drop(['Confidence'], axis=1)\n",
    "otu_taxonomy.to_csv('raw_otu_and_tax/Approach6/taxonomy.tsv', sep='\\t', index=False)"
   ]
  }
 ],
 "metadata": {
  "kernelspec": {
   "display_name": "Python 3",
   "language": "python",
   "name": "python3"
  },
  "language_info": {
   "codemirror_mode": {
    "name": "ipython",
    "version": 3
   },
   "file_extension": ".py",
   "mimetype": "text/x-python",
   "name": "python",
   "nbconvert_exporter": "python",
   "pygments_lexer": "ipython3",
   "version": "3.11.9"
  }
 },
 "nbformat": 4,
 "nbformat_minor": 2
}
