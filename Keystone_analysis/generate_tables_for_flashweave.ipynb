{
 "cells": [
  {
   "cell_type": "markdown",
   "metadata": {},
   "source": [
    "# Generate tables for Flashweave"
   ]
  },
  {
   "cell_type": "code",
   "execution_count": 1,
   "metadata": {},
   "outputs": [],
   "source": [
    "import pandas as pd\n",
    "from collections import Counter\n",
    "import numpy as np"
   ]
  },
  {
   "cell_type": "markdown",
   "metadata": {},
   "source": [
    "First the normalized table get imported"
   ]
  },
  {
   "cell_type": "code",
   "execution_count": 76,
   "metadata": {},
   "outputs": [],
   "source": [
    "otu_wl_table = pd.read_csv('otu_tables/_all_otu_table_normalized_relAB_wl.tsv', sep='\\t').set_index('Feature ID')\n",
    "otu_endo_table = pd.read_csv('otu_tables/_all_otu_table_normalized_relAB_endo.tsv', sep='\\t').set_index('Feature ID')"
   ]
  },
  {
   "cell_type": "markdown",
   "metadata": {},
   "source": [
    "Now there is the possibility to apply an additional filter parameter.\n",
    "\n",
    "In the end I want to have Dataframes with:\n",
    "- 10% fp\n",
    "- no additional fp"
   ]
  },
  {
   "cell_type": "code",
   "execution_count": 77,
   "metadata": {},
   "outputs": [],
   "source": [
    "def filter_higher(table, filter_param):\n",
    "    filter_param=round(int(len(otu_wl_table.columns))*filter_param, 0)\n",
    "    table['OTU_count'] = (table != 0).sum(axis=1)\n",
    "    table = table[table['OTU_count'] >= filter_param]\n",
    "    table = table.drop('OTU_count', axis =1)\n",
    "    return table"
   ]
  },
  {
   "cell_type": "code",
   "execution_count": 78,
   "metadata": {},
   "outputs": [],
   "source": [
    "fp =  0.2\n",
    "otu_wl_table_10p_filter = filter_higher(otu_wl_table, fp)\n",
    "otu_endo_table_10p_filter = filter_higher(otu_endo_table, fp)"
   ]
  },
  {
   "cell_type": "markdown",
   "metadata": {},
   "source": [
    "For Flashweave, the columns must be OTUs and the rows must be samples. So the OTU-table must be transposed"
   ]
  },
  {
   "cell_type": "code",
   "execution_count": 79,
   "metadata": {},
   "outputs": [],
   "source": [
    "otu_wl_table = otu_wl_table.transpose()\n",
    "otu_endo_table = otu_endo_table.transpose()\n",
    "\n",
    "otu_wl_table_10p_filter = otu_wl_table_10p_filter.transpose()\n",
    "otu_endo_table_10p_filter = otu_endo_table_10p_filter.transpose()"
   ]
  },
  {
   "cell_type": "code",
   "execution_count": 80,
   "metadata": {},
   "outputs": [
    {
     "name": "stdout",
     "output_type": "stream",
     "text": [
      "20\n"
     ]
    }
   ],
   "source": [
    "fp_filename = round(fp * 100, 0)\n",
    "fp_filename = str(fp_filename).split('.')[0]\n",
    "print(fp_filename)\n",
    "\n",
    "otu_wl_table_10p_filter.to_csv(f'input_flashweave_complete/wl_otu_fp{fp_filename}p.tsv', sep='\\t', index=True)\n",
    "otu_endo_table_10p_filter.to_csv(f'input_flashweave_complete/endo_otu_fp{fp_filename}p.tsv', sep='\\t', index=True)\n"
   ]
  }
 ],
 "metadata": {
  "kernelspec": {
   "display_name": "Python 3",
   "language": "python",
   "name": "python3"
  },
  "language_info": {
   "codemirror_mode": {
    "name": "ipython",
    "version": 3
   },
   "file_extension": ".py",
   "mimetype": "text/x-python",
   "name": "python",
   "nbconvert_exporter": "python",
   "pygments_lexer": "ipython3",
   "version": "3.11.9"
  }
 },
 "nbformat": 4,
 "nbformat_minor": 2
}
